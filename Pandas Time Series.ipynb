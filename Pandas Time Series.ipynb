{
 "cells": [
  {
   "cell_type": "markdown",
   "id": "ff417120",
   "metadata": {},
   "source": [
    "# Pandas Time Series: Exercises, Practice, Solution"
   ]
  },
  {
   "cell_type": "markdown",
   "id": "e08f2988",
   "metadata": {},
   "source": [
    "## 1.Write a Pandas program to create\n",
    "    a) Datetime object for Jan 15 2012.\n",
    "    b) Specific date and time of 9:20 pm.\n",
    "    c) Local date and time.\n",
    "    d) A date without time.\n",
    "    e) Current date.\n",
    "    f) Time from a datetime.\n",
    "    g) Current local time."
   ]
  },
  {
   "cell_type": "code",
   "execution_count": 8,
   "id": "984369f0",
   "metadata": {},
   "outputs": [
    {
     "name": "stdout",
     "output_type": "stream",
     "text": [
      "\n",
      "Datetime object for Jan 15 2012:\n",
      "2012-01-15 00:00:00\n",
      "\n",
      "Specific date and time of 9:20 pm:\n",
      "2011-01-11 21:20:00\n",
      "\n",
      "Local date and time:\n",
      "2021-11-10 14:45:05.872290\n",
      "\n",
      "Date without time:\n",
      "2012-05-22\n",
      "\n",
      "Current Date:\n",
      "2021-11-10\n",
      "\n",
      "Time from a datetime:\n",
      "18:12:00\n",
      "\n",
      "Current local time:\n",
      "14:45:05.873291\n"
     ]
    }
   ],
   "source": [
    "import datetime\n",
    "from datetime import datetime\n",
    "print(\"\\nDatetime object for Jan 15 2012:\")\n",
    "print(datetime(2012,1,15))\n",
    "print(\"\\nSpecific date and time of 9:20 pm:\")\n",
    "print(datetime(2011,1,11,21,20))\n",
    "print(\"\\nLocal date and time:\")\n",
    "print(datetime.now())\n",
    "print(\"\\nDate without time:\")\n",
    "print(datetime.date(datetime(2012,5,22)))\n",
    "print(\"\\nCurrent Date:\")\n",
    "print(datetime.now().date())\n",
    "print(\"\\nTime from a datetime:\")\n",
    "print(datetime.time(datetime(2012,12,15,18,12)))\n",
    "print(\"\\nCurrent local time:\")\n",
    "print(datetime.now().time())"
   ]
  },
  {
   "cell_type": "markdown",
   "id": "265eb489",
   "metadata": {},
   "source": [
    "## 2. Write a Pandas program to create \n",
    "    a) a specific date using timestamp.\n",
    "    b) date and time using timestamp.\n",
    "    c) a time adds in the current local date using timestamp.\n",
    "    d) current date and time using timestamp."
   ]
  },
  {
   "cell_type": "code",
   "execution_count": 14,
   "id": "f7265c13",
   "metadata": {},
   "outputs": [
    {
     "name": "stdout",
     "output_type": "stream",
     "text": [
      "\n",
      "A Specific date using timestamp:\n",
      "2016-11-10 00:00:00\n",
      "\n",
      "Date and Time using timestamp:\n",
      "2012-05-03 15:30:00\n",
      "\n",
      "A time adds in the current local date using timestamp:\n",
      "2021-10-11 00:00:00\n",
      "\n",
      "Current Date and Time using timestamp:\n",
      "2021-11-10 14:59:41.524986\n"
     ]
    }
   ],
   "source": [
    "import pandas as pd\n",
    "print(\"\\nA Specific date using timestamp:\")\n",
    "print(pd.Timestamp('2016-11-10'))\n",
    "print(\"\\nDate and Time using timestamp:\")\n",
    "print(pd.Timestamp('2012-05-03 15:30'))\n",
    "print(\"\\nA time adds in the current local date using timestamp:\")\n",
    "print(pd.Timestamp('10-11-2021'))\n",
    "print(\"\\nCurrent Date and Time using timestamp:\")\n",
    "print(pd.Timestamp('now'))"
   ]
  },
  {
   "cell_type": "markdown",
   "id": "8f71bcbe",
   "metadata": {},
   "source": [
    "## 3. Write a Pandas program to create a date from a given year, month, day and another date from a given string formats."
   ]
  },
  {
   "cell_type": "code",
   "execution_count": 16,
   "id": "1f4e060d",
   "metadata": {},
   "outputs": [
    {
     "name": "stdout",
     "output_type": "stream",
     "text": [
      "Date from a given year,month,day:\n",
      "2021-11-09 00:00:00\n",
      "2021-01-01 00:00:00\n"
     ]
    }
   ],
   "source": [
    "date1 = datetime(year=2021,month=11,day=9)\n",
    "print(\"Date from a given year,month,day:\")\n",
    "print(date1)\n",
    "from dateutil import parser\n",
    "date2 = parser.parse(\"1st of January,2021\")\n",
    "print(date2)"
   ]
  },
  {
   "cell_type": "markdown",
   "id": "106edc04",
   "metadata": {},
   "source": [
    "## 4. Write a Pandas program to print the day after and before a specified date. Also print the days between two given dates. "
   ]
  },
  {
   "cell_type": "code",
   "execution_count": 17,
   "id": "5215a25a",
   "metadata": {},
   "outputs": [
    {
     "name": "stdout",
     "output_type": "stream",
     "text": [
      "Current date: 2012-10-30 00:00:00\n",
      "Tomarrow: 2012-10-31 00:00:00\n",
      "Yesterday: 2012-10-29 00:00:00\n",
      "\n",
      " Difference Between two dates: 14 days, 0:00:00\n"
     ]
    }
   ],
   "source": [
    "today = datetime(2012,10,30)\n",
    "print(\"Current date:\",today)\n",
    "tomarrow = today + pd.Timedelta(days=1)\n",
    "print(\"Tomarrow:\",tomarrow)\n",
    "yesterday = today - pd.Timedelta(days=1)\n",
    "print(\"Yesterday:\",yesterday)\n",
    "date1 = datetime(2016,8,2)\n",
    "date2 = datetime(2016,7,19)\n",
    "print(\"\\n Difference Between two dates:\",(date1-date2))"
   ]
  },
  {
   "cell_type": "markdown",
   "id": "f3bce24c",
   "metadata": {},
   "source": [
    "## 5. Write a Pandas program to create a time-series with two index labels and random values. Also print the type of the index."
   ]
  },
  {
   "cell_type": "code",
   "execution_count": 19,
   "id": "c4910dc3",
   "metadata": {},
   "outputs": [
    {
     "name": "stdout",
     "output_type": "stream",
     "text": [
      "Time-series with two index labels:\n",
      "2011-09-01   -2.309623\n",
      "2011-09-02    1.200170\n",
      "dtype: float64\n",
      "\n",
      "Type of the index:\n",
      "<class 'pandas.core.indexes.datetimes.DatetimeIndex'>\n"
     ]
    }
   ],
   "source": [
    "import numpy as np\n",
    "dates = [datetime(2011,9,1), datetime(2011,9,2)]\n",
    "print(\"Time-series with two index labels:\")\n",
    "time_series = pd.Series(np.random.randn(2),dates)\n",
    "print(time_series)\n",
    "print(\"\\nType of the index:\")\n",
    "print(type(time_series.index))"
   ]
  },
  {
   "cell_type": "markdown",
   "id": "312e94cc",
   "metadata": {},
   "source": [
    "## 6. Write a Pandas program to create a time-series from a given list of dates as strings."
   ]
  },
  {
   "cell_type": "code",
   "execution_count": 20,
   "id": "89c5d345",
   "metadata": {},
   "outputs": [
    {
     "data": {
      "text/plain": [
       "2014-08-01   -1.032461\n",
       "2014-08-02   -0.252276\n",
       "2014-08-03    1.141663\n",
       "2014-08-04   -0.229201\n",
       "dtype: float64"
      ]
     },
     "execution_count": 20,
     "metadata": {},
     "output_type": "execute_result"
    }
   ],
   "source": [
    "date = ['2014-08-01','2014-08-02','2014-08-03','2014-08-04']\n",
    "time_series = pd.Series(np.random.randn(4),date)\n",
    "time_series"
   ]
  },
  {
   "cell_type": "markdown",
   "id": "61899dc3",
   "metadata": {},
   "source": [
    "## 7.Write a Pandas program to create a time series object that has time indexed data. Also select the dates of same year and select the dates between certain dates."
   ]
  },
  {
   "cell_type": "code",
   "execution_count": 23,
   "id": "f6f08e52",
   "metadata": {},
   "outputs": [
    {
     "name": "stdout",
     "output_type": "stream",
     "text": [
      "Time series object with indexed data:\n",
      "2011-09-02    0\n",
      "2012-08-04    1\n",
      "2015-09-03    2\n",
      "2010-08-04    3\n",
      "2015-03-03    4\n",
      "2011-08-04    5\n",
      "2015-04-03    6\n",
      "2012-08-04    7\n",
      "dtype: int64\n",
      "\n",
      "Dates of same year:\n",
      "2015-09-03    2\n",
      "2015-03-03    4\n",
      "2015-04-03    6\n",
      "dtype: int64\n",
      "\n",
      "Dates between 2012-01-01 and 2012-12-31\n",
      "2012-08-04    1\n",
      "2012-08-04    7\n",
      "dtype: int64\n"
     ]
    },
    {
     "name": "stderr",
     "output_type": "stream",
     "text": [
      "C:\\Users\\CAD_23\\AppData\\Local\\Temp/ipykernel_9088/2417162046.py:11: FutureWarning: Value based partial slicing on non-monotonic DatetimeIndexes with non-existing keys is deprecated and will raise a KeyError in a future Version.\n",
      "  print(s_dates['2012-01-01':'2012-12-31'])\n"
     ]
    }
   ],
   "source": [
    "index = pd.DatetimeIndex(['2011-09-02','2012-08-04',\n",
    "                         '2015-09-03','2010-08-04',\n",
    "                         '2015-03-03','2011-08-04',\n",
    "                         '2015-04-03','2012-08-04'])\n",
    "s_dates = pd.Series([0,1,2,3,4,5,6,7],index=index)\n",
    "print(\"Time series object with indexed data:\")\n",
    "print(s_dates)\n",
    "print(\"\\nDates of same year:\")\n",
    "print(s_dates['2015'])\n",
    "print(\"\\nDates between 2012-01-01 and 2012-12-31\")\n",
    "print(s_dates['2012-01-01':'2012-12-31'])"
   ]
  },
  {
   "cell_type": "markdown",
   "id": "bf59334f",
   "metadata": {},
   "source": [
    "## 8. Write a Pandas program to create a date range using a startpoint date and a number of periods."
   ]
  },
  {
   "cell_type": "code",
   "execution_count": 25,
   "id": "084b6d86",
   "metadata": {},
   "outputs": [
    {
     "name": "stdout",
     "output_type": "stream",
     "text": [
      "\n",
      "Date Range of periods 45:\n",
      "DatetimeIndex(['2021-01-01', '2021-01-02', '2021-01-03', '2021-01-04',\n",
      "               '2021-01-05', '2021-01-06', '2021-01-07', '2021-01-08',\n",
      "               '2021-01-09', '2021-01-10', '2021-01-11', '2021-01-12',\n",
      "               '2021-01-13', '2021-01-14', '2021-01-15', '2021-01-16',\n",
      "               '2021-01-17', '2021-01-18', '2021-01-19', '2021-01-20',\n",
      "               '2021-01-21', '2021-01-22', '2021-01-23', '2021-01-24',\n",
      "               '2021-01-25', '2021-01-26', '2021-01-27', '2021-01-28',\n",
      "               '2021-01-29', '2021-01-30', '2021-01-31', '2021-02-01',\n",
      "               '2021-02-02', '2021-02-03', '2021-02-04', '2021-02-05',\n",
      "               '2021-02-06', '2021-02-07', '2021-02-08', '2021-02-09',\n",
      "               '2021-02-10', '2021-02-11', '2021-02-12', '2021-02-13',\n",
      "               '2021-02-14', '2021-02-15', '2021-02-16', '2021-02-17',\n",
      "               '2021-02-18', '2021-02-19', '2021-02-20', '2021-02-21',\n",
      "               '2021-02-22', '2021-02-23', '2021-02-24', '2021-02-25',\n",
      "               '2021-02-26', '2021-02-27', '2021-02-28', '2021-03-01'],\n",
      "              dtype='datetime64[ns]', freq='D')\n"
     ]
    }
   ],
   "source": [
    "date_range = pd.date_range('2021-01-01',periods=60)\n",
    "print(\"\\nDate Range of periods 45:\")\n",
    "print(date_range)"
   ]
  },
  {
   "cell_type": "markdown",
   "id": "0cce1646",
   "metadata": {},
   "source": [
    "## 9. Write a Pandas program to create a whole month of dates in daily frequencies. Also find the maximum, minimum timestamp and indexs."
   ]
  },
  {
   "cell_type": "code",
   "execution_count": 27,
   "id": "963804f1",
   "metadata": {},
   "outputs": [],
   "source": [
    "dates = pd.Series(pd.date_range('2021-01-01',periods=31,freq='D'))"
   ]
  },
  {
   "cell_type": "code",
   "execution_count": 29,
   "id": "a4d6e59b",
   "metadata": {},
   "outputs": [
    {
     "name": "stdout",
     "output_type": "stream",
     "text": [
      "0    2021-01-01\n",
      "1    2021-01-02\n",
      "2    2021-01-03\n",
      "3    2021-01-04\n",
      "4    2021-01-05\n",
      "5    2021-01-06\n",
      "6    2021-01-07\n",
      "7    2021-01-08\n",
      "8    2021-01-09\n",
      "9    2021-01-10\n",
      "10   2021-01-11\n",
      "11   2021-01-12\n",
      "12   2021-01-13\n",
      "13   2021-01-14\n",
      "14   2021-01-15\n",
      "15   2021-01-16\n",
      "16   2021-01-17\n",
      "17   2021-01-18\n",
      "18   2021-01-19\n",
      "19   2021-01-20\n",
      "20   2021-01-21\n",
      "21   2021-01-22\n",
      "22   2021-01-23\n",
      "23   2021-01-24\n",
      "24   2021-01-25\n",
      "25   2021-01-26\n",
      "26   2021-01-27\n",
      "27   2021-01-28\n",
      "28   2021-01-29\n",
      "29   2021-01-30\n",
      "30   2021-01-31\n",
      "dtype: datetime64[ns]\n",
      "\n",
      "Maximum Date:  2021-01-31 00:00:00\n",
      "\n",
      "Minimum Date:  2021-01-01 00:00:00\n",
      "\n",
      "Maximum Index:  30\n",
      "\n",
      "Minimum Index:  0\n"
     ]
    }
   ],
   "source": [
    "print(dates)\n",
    "print(\"\\nMaximum Date: \",dates.max())\n",
    "print(\"\\nMinimum Date: \",dates.min())\n",
    "print(\"\\nMaximum Index: \",dates.idxmax())\n",
    "print(\"\\nMinimum Index: \",dates.idxmin())"
   ]
  },
  {
   "cell_type": "markdown",
   "id": "80b9bde3",
   "metadata": {},
   "source": [
    "## 10. Write a Pandas program to create a time series using three months frequency."
   ]
  },
  {
   "cell_type": "code",
   "execution_count": 38,
   "id": "aa09d79f",
   "metadata": {},
   "outputs": [],
   "source": [
    "dates = pd.date_range('2021-01-01',periods=93,freq='3M')"
   ]
  },
  {
   "cell_type": "code",
   "execution_count": 39,
   "id": "40b536b8",
   "metadata": {},
   "outputs": [
    {
     "name": "stdout",
     "output_type": "stream",
     "text": [
      "\n",
      "Time series using three months frequecy: \n"
     ]
    }
   ],
   "source": [
    "print(\"\\nTime series using three months frequecy: \")"
   ]
  },
  {
   "cell_type": "code",
   "execution_count": 40,
   "id": "01bc49c7",
   "metadata": {},
   "outputs": [
    {
     "name": "stdout",
     "output_type": "stream",
     "text": [
      "DatetimeIndex(['2021-01-31', '2021-04-30', '2021-07-31', '2021-10-31',\n",
      "               '2022-01-31', '2022-04-30', '2022-07-31', '2022-10-31',\n",
      "               '2023-01-31', '2023-04-30', '2023-07-31', '2023-10-31',\n",
      "               '2024-01-31', '2024-04-30', '2024-07-31', '2024-10-31',\n",
      "               '2025-01-31', '2025-04-30', '2025-07-31', '2025-10-31',\n",
      "               '2026-01-31', '2026-04-30', '2026-07-31', '2026-10-31',\n",
      "               '2027-01-31', '2027-04-30', '2027-07-31', '2027-10-31',\n",
      "               '2028-01-31', '2028-04-30', '2028-07-31', '2028-10-31',\n",
      "               '2029-01-31', '2029-04-30', '2029-07-31', '2029-10-31',\n",
      "               '2030-01-31', '2030-04-30', '2030-07-31', '2030-10-31',\n",
      "               '2031-01-31', '2031-04-30', '2031-07-31', '2031-10-31',\n",
      "               '2032-01-31', '2032-04-30', '2032-07-31', '2032-10-31',\n",
      "               '2033-01-31', '2033-04-30', '2033-07-31', '2033-10-31',\n",
      "               '2034-01-31', '2034-04-30', '2034-07-31', '2034-10-31',\n",
      "               '2035-01-31', '2035-04-30', '2035-07-31', '2035-10-31',\n",
      "               '2036-01-31', '2036-04-30', '2036-07-31', '2036-10-31',\n",
      "               '2037-01-31', '2037-04-30', '2037-07-31', '2037-10-31',\n",
      "               '2038-01-31', '2038-04-30', '2038-07-31', '2038-10-31',\n",
      "               '2039-01-31', '2039-04-30', '2039-07-31', '2039-10-31',\n",
      "               '2040-01-31', '2040-04-30', '2040-07-31', '2040-10-31',\n",
      "               '2041-01-31', '2041-04-30', '2041-07-31', '2041-10-31',\n",
      "               '2042-01-31', '2042-04-30', '2042-07-31', '2042-10-31',\n",
      "               '2043-01-31', '2043-04-30', '2043-07-31', '2043-10-31',\n",
      "               '2044-01-31'],\n",
      "              dtype='datetime64[ns]', freq='3M')\n"
     ]
    }
   ],
   "source": [
    "print(dates)"
   ]
  },
  {
   "cell_type": "markdown",
   "id": "c1373695",
   "metadata": {},
   "source": [
    "## 11. Write a Pandas program to create a sequence of durations increasing by an hour."
   ]
  },
  {
   "cell_type": "code",
   "execution_count": 41,
   "id": "1e8c38ca",
   "metadata": {},
   "outputs": [
    {
     "name": "stdout",
     "output_type": "stream",
     "text": [
      "Hourly Range of periods:\n",
      "\n",
      "TimedeltaIndex(['0 days 00:00:00', '0 days 01:00:00', '0 days 02:00:00',\n",
      "                '0 days 03:00:00', '0 days 04:00:00', '0 days 05:00:00',\n",
      "                '0 days 06:00:00', '0 days 07:00:00', '0 days 08:00:00',\n",
      "                '0 days 09:00:00', '0 days 10:00:00', '0 days 11:00:00',\n",
      "                '0 days 12:00:00', '0 days 13:00:00', '0 days 14:00:00',\n",
      "                '0 days 15:00:00', '0 days 16:00:00', '0 days 17:00:00',\n",
      "                '0 days 18:00:00', '0 days 19:00:00', '0 days 20:00:00',\n",
      "                '0 days 21:00:00', '0 days 22:00:00', '0 days 23:00:00',\n",
      "                '1 days 00:00:00', '1 days 01:00:00', '1 days 02:00:00',\n",
      "                '1 days 03:00:00', '1 days 04:00:00', '1 days 05:00:00',\n",
      "                '1 days 06:00:00', '1 days 07:00:00', '1 days 08:00:00',\n",
      "                '1 days 09:00:00', '1 days 10:00:00', '1 days 11:00:00',\n",
      "                '1 days 12:00:00', '1 days 13:00:00', '1 days 14:00:00',\n",
      "                '1 days 15:00:00', '1 days 16:00:00', '1 days 17:00:00',\n",
      "                '1 days 18:00:00', '1 days 19:00:00', '1 days 20:00:00',\n",
      "                '1 days 21:00:00', '1 days 22:00:00', '1 days 23:00:00',\n",
      "                '2 days 00:00:00'],\n",
      "               dtype='timedelta64[ns]', freq='H')\n"
     ]
    }
   ],
   "source": [
    "date_range = pd.timedelta_range(0,periods=49,freq='H')\n",
    "print(\"Hourly Range of periods:\\n\")\n",
    "print(date_range)"
   ]
  },
  {
   "cell_type": "markdown",
   "id": "ccd3f3ea",
   "metadata": {},
   "source": [
    "## 12. Write a Pandas program to convert year and day of year into a single datetime column of a dataframe."
   ]
  },
  {
   "cell_type": "code",
   "execution_count": 44,
   "id": "cf48e6db",
   "metadata": {},
   "outputs": [
    {
     "name": "stdout",
     "output_type": "stream",
     "text": [
      "{'year': [2002, 2003, 2015, 2018], 'day_of_the_year': [250, 365, 1, 140]}\n",
      "Original dataframe:\n",
      "   year  day_of_the_year\n",
      "0  2002              250\n",
      "1  2003              365\n",
      "2  2015                1\n",
      "3  2018              140\n",
      "\n",
      "New Dataframe:\n",
      "   year  day_of_the_year  combined       date\n",
      "0  2002              250   2002250 2002-09-07\n",
      "1  2003              365   2003365 2003-12-31\n",
      "2  2015                1   2015001 2015-01-01\n",
      "3  2018              140   2018140 2018-05-20\n"
     ]
    }
   ],
   "source": [
    "data = {'year':[2002,2003,2015,2018],\n",
    "       'day_of_the_year':[250,365,1,140]}\n",
    "print(data)\n",
    "df = pd.DataFrame(data)\n",
    "print(\"Original dataframe:\")\n",
    "print(df)\n",
    "df['combined'] = df['year']*1000 + df['day_of_the_year']\n",
    "df['date'] = pd.to_datetime(df['combined'],format = \"%Y%j\")\n",
    "print(\"\\nNew Dataframe:\")\n",
    "print(df)"
   ]
  },
  {
   "cell_type": "markdown",
   "id": "e9e73cd8",
   "metadata": {},
   "source": [
    "## 13. Write a Pandas program to create a series of Timestamps from a DataFrame of integer or string columns. Also create a series of Timestamps using specified columns. "
   ]
  },
  {
   "cell_type": "code",
   "execution_count": 46,
   "id": "46e9a0a9",
   "metadata": {},
   "outputs": [
    {
     "name": "stdout",
     "output_type": "stream",
     "text": [
      "\n",
      "Original Dataframe:\n"
     ]
    },
    {
     "data": {
      "text/html": [
       "<div>\n",
       "<style scoped>\n",
       "    .dataframe tbody tr th:only-of-type {\n",
       "        vertical-align: middle;\n",
       "    }\n",
       "\n",
       "    .dataframe tbody tr th {\n",
       "        vertical-align: top;\n",
       "    }\n",
       "\n",
       "    .dataframe thead th {\n",
       "        text-align: right;\n",
       "    }\n",
       "</style>\n",
       "<table border=\"1\" class=\"dataframe\">\n",
       "  <thead>\n",
       "    <tr style=\"text-align: right;\">\n",
       "      <th></th>\n",
       "      <th>year</th>\n",
       "      <th>month</th>\n",
       "      <th>day</th>\n",
       "      <th>hour</th>\n",
       "    </tr>\n",
       "  </thead>\n",
       "  <tbody>\n",
       "    <tr>\n",
       "      <th>0</th>\n",
       "      <td>2018</td>\n",
       "      <td>2</td>\n",
       "      <td>4</td>\n",
       "      <td>2</td>\n",
       "    </tr>\n",
       "    <tr>\n",
       "      <th>1</th>\n",
       "      <td>2019</td>\n",
       "      <td>3</td>\n",
       "      <td>5</td>\n",
       "      <td>3</td>\n",
       "    </tr>\n",
       "    <tr>\n",
       "      <th>2</th>\n",
       "      <td>2020</td>\n",
       "      <td>4</td>\n",
       "      <td>6</td>\n",
       "      <td>4</td>\n",
       "    </tr>\n",
       "  </tbody>\n",
       "</table>\n",
       "</div>"
      ],
      "text/plain": [
       "   year  month  day  hour\n",
       "0  2018      2    4     2\n",
       "1  2019      3    5     3\n",
       "2  2020      4    6     4"
      ]
     },
     "execution_count": 46,
     "metadata": {},
     "output_type": "execute_result"
    }
   ],
   "source": [
    "df = pd.DataFrame({'year':[2018,2019,2020],\n",
    "                  'month':[2,3,4],\n",
    "                  'day':[4,5,6],\n",
    "                  'hour':[2,3,4]})\n",
    "print(\"\\nOriginal Dataframe:\")\n",
    "df"
   ]
  },
  {
   "cell_type": "code",
   "execution_count": 47,
   "id": "6e6ebbe7",
   "metadata": {},
   "outputs": [
    {
     "name": "stdout",
     "output_type": "stream",
     "text": [
      "\n",
      "Series of Timestamps from the said dataframe:\n"
     ]
    },
    {
     "data": {
      "text/plain": [
       "0   2018-02-04 02:00:00\n",
       "1   2019-03-05 03:00:00\n",
       "2   2020-04-06 04:00:00\n",
       "dtype: datetime64[ns]"
      ]
     },
     "execution_count": 47,
     "metadata": {},
     "output_type": "execute_result"
    }
   ],
   "source": [
    "result = pd.to_datetime(df)\n",
    "print(\"\\nSeries of Timestamps from the said dataframe:\")\n",
    "result"
   ]
  },
  {
   "cell_type": "code",
   "execution_count": 48,
   "id": "59a6c16f",
   "metadata": {},
   "outputs": [
    {
     "name": "stdout",
     "output_type": "stream",
     "text": [
      "\n",
      "Series of Timestamps using specified columns:\n"
     ]
    },
    {
     "data": {
      "text/plain": [
       "0   2018-02-04\n",
       "1   2019-03-05\n",
       "2   2020-04-06\n",
       "dtype: datetime64[ns]"
      ]
     },
     "execution_count": 48,
     "metadata": {},
     "output_type": "execute_result"
    }
   ],
   "source": [
    "result1 = pd.to_datetime(df[['year','month','day']])\n",
    "print(\"\\nSeries of Timestamps using specified columns:\")\n",
    "result1"
   ]
  },
  {
   "cell_type": "markdown",
   "id": "eca09075",
   "metadata": {},
   "source": [
    "## 14. Write a Pandas program to check if a day is a business day (weekday) or not."
   ]
  },
  {
   "cell_type": "code",
   "execution_count": 49,
   "id": "a40d5aa3",
   "metadata": {},
   "outputs": [
    {
     "name": "stdout",
     "output_type": "stream",
     "text": [
      "Check business day or not?\n",
      "2021-11-01:  True\n",
      "2021-11-08:  True\n",
      "2021-11-15:  True\n"
     ]
    }
   ],
   "source": [
    "def is_business_day(date):\n",
    "    return bool(len(pd.bdate_range(date,date)))\n",
    "print(\"Check business day or not?\")\n",
    "print(\"2021-11-01: \",is_business_day('2021-11-01'))\n",
    "print(\"2021-11-08: \",is_business_day('2021-11-08'))\n",
    "print(\"2021-11-15: \",is_business_day('2021-11-15'))"
   ]
  },
  {
   "cell_type": "markdown",
   "id": "e1f39ac8",
   "metadata": {},
   "source": [
    "## 15. Write a Pandas program to get a time series with the last working days of each month of a specific year. "
   ]
  },
  {
   "cell_type": "code",
   "execution_count": 52,
   "id": "8328a6ba",
   "metadata": {},
   "outputs": [
    {
     "data": {
      "text/html": [
       "<div>\n",
       "<style scoped>\n",
       "    .dataframe tbody tr th:only-of-type {\n",
       "        vertical-align: middle;\n",
       "    }\n",
       "\n",
       "    .dataframe tbody tr th {\n",
       "        vertical-align: top;\n",
       "    }\n",
       "\n",
       "    .dataframe thead th {\n",
       "        text-align: right;\n",
       "    }\n",
       "</style>\n",
       "<table border=\"1\" class=\"dataframe\">\n",
       "  <thead>\n",
       "    <tr style=\"text-align: right;\">\n",
       "      <th></th>\n",
       "      <th>Date</th>\n",
       "    </tr>\n",
       "  </thead>\n",
       "  <tbody>\n",
       "    <tr>\n",
       "      <th>0</th>\n",
       "      <td>2021-01-29</td>\n",
       "    </tr>\n",
       "    <tr>\n",
       "      <th>1</th>\n",
       "      <td>2021-02-26</td>\n",
       "    </tr>\n",
       "    <tr>\n",
       "      <th>2</th>\n",
       "      <td>2021-03-31</td>\n",
       "    </tr>\n",
       "    <tr>\n",
       "      <th>3</th>\n",
       "      <td>2021-04-30</td>\n",
       "    </tr>\n",
       "    <tr>\n",
       "      <th>4</th>\n",
       "      <td>2021-05-31</td>\n",
       "    </tr>\n",
       "    <tr>\n",
       "      <th>5</th>\n",
       "      <td>2021-06-30</td>\n",
       "    </tr>\n",
       "    <tr>\n",
       "      <th>6</th>\n",
       "      <td>2021-07-30</td>\n",
       "    </tr>\n",
       "    <tr>\n",
       "      <th>7</th>\n",
       "      <td>2021-08-31</td>\n",
       "    </tr>\n",
       "    <tr>\n",
       "      <th>8</th>\n",
       "      <td>2021-09-30</td>\n",
       "    </tr>\n",
       "    <tr>\n",
       "      <th>9</th>\n",
       "      <td>2021-10-29</td>\n",
       "    </tr>\n",
       "    <tr>\n",
       "      <th>10</th>\n",
       "      <td>2021-11-30</td>\n",
       "    </tr>\n",
       "    <tr>\n",
       "      <th>11</th>\n",
       "      <td>2021-12-31</td>\n",
       "    </tr>\n",
       "  </tbody>\n",
       "</table>\n",
       "</div>"
      ],
      "text/plain": [
       "         Date\n",
       "0  2021-01-29\n",
       "1  2021-02-26\n",
       "2  2021-03-31\n",
       "3  2021-04-30\n",
       "4  2021-05-31\n",
       "5  2021-06-30\n",
       "6  2021-07-30\n",
       "7  2021-08-31\n",
       "8  2021-09-30\n",
       "9  2021-10-29\n",
       "10 2021-11-30\n",
       "11 2021-12-31"
      ]
     },
     "execution_count": 52,
     "metadata": {},
     "output_type": "execute_result"
    }
   ],
   "source": [
    "s = pd.date_range('2021-01-01',periods=12,freq='BM')\n",
    "df = pd.DataFrame(s,columns=['Date'])\n",
    "df"
   ]
  },
  {
   "cell_type": "markdown",
   "id": "0cd03ab3",
   "metadata": {},
   "source": [
    "## 16. Write a Pandas program to create a time series combining hour and minute."
   ]
  },
  {
   "cell_type": "code",
   "execution_count": 53,
   "id": "135a2e76",
   "metadata": {},
   "outputs": [],
   "source": [
    "result = pd.timedelta_range(0,periods=30,freq='1H20T')"
   ]
  },
  {
   "cell_type": "code",
   "execution_count": 54,
   "id": "f03a96a7",
   "metadata": {},
   "outputs": [
    {
     "data": {
      "text/plain": [
       "TimedeltaIndex(['0 days 00:00:00', '0 days 01:20:00', '0 days 02:40:00',\n",
       "                '0 days 04:00:00', '0 days 05:20:00', '0 days 06:40:00',\n",
       "                '0 days 08:00:00', '0 days 09:20:00', '0 days 10:40:00',\n",
       "                '0 days 12:00:00', '0 days 13:20:00', '0 days 14:40:00',\n",
       "                '0 days 16:00:00', '0 days 17:20:00', '0 days 18:40:00',\n",
       "                '0 days 20:00:00', '0 days 21:20:00', '0 days 22:40:00',\n",
       "                '1 days 00:00:00', '1 days 01:20:00', '1 days 02:40:00',\n",
       "                '1 days 04:00:00', '1 days 05:20:00', '1 days 06:40:00',\n",
       "                '1 days 08:00:00', '1 days 09:20:00', '1 days 10:40:00',\n",
       "                '1 days 12:00:00', '1 days 13:20:00', '1 days 14:40:00'],\n",
       "               dtype='timedelta64[ns]', freq='80T')"
      ]
     },
     "execution_count": 54,
     "metadata": {},
     "output_type": "execute_result"
    }
   ],
   "source": [
    "result"
   ]
  },
  {
   "cell_type": "markdown",
   "id": "eacf3314",
   "metadata": {},
   "source": [
    "## 17. Write a Pandas program to calculate all Thursdays between two given days."
   ]
  },
  {
   "cell_type": "code",
   "execution_count": 57,
   "id": "6bbef1cf",
   "metadata": {},
   "outputs": [
    {
     "name": "stdout",
     "output_type": "stream",
     "text": [
      "\n",
      "All Thursday between 2021-01-01 to 2021-12-31\n"
     ]
    },
    {
     "data": {
      "text/plain": [
       "DatetimeIndex(['2021-01-07', '2021-01-14', '2021-01-21', '2021-01-28',\n",
       "               '2021-02-04', '2021-02-11', '2021-02-18', '2021-02-25',\n",
       "               '2021-03-04', '2021-03-11', '2021-03-18', '2021-03-25',\n",
       "               '2021-04-01', '2021-04-08', '2021-04-15', '2021-04-22',\n",
       "               '2021-04-29', '2021-05-06', '2021-05-13', '2021-05-20',\n",
       "               '2021-05-27', '2021-06-03', '2021-06-10', '2021-06-17',\n",
       "               '2021-06-24', '2021-07-01', '2021-07-08', '2021-07-15',\n",
       "               '2021-07-22', '2021-07-29', '2021-08-05', '2021-08-12',\n",
       "               '2021-08-19', '2021-08-26', '2021-09-02', '2021-09-09',\n",
       "               '2021-09-16', '2021-09-23', '2021-09-30', '2021-10-07',\n",
       "               '2021-10-14', '2021-10-21', '2021-10-28', '2021-11-04',\n",
       "               '2021-11-11', '2021-11-18', '2021-11-25', '2021-12-02',\n",
       "               '2021-12-09', '2021-12-16', '2021-12-23', '2021-12-30'],\n",
       "              dtype='datetime64[ns]', freq='W-THU')"
      ]
     },
     "execution_count": 57,
     "metadata": {},
     "output_type": "execute_result"
    }
   ],
   "source": [
    "thursday = pd.date_range('2021-01-01','2021-12-31',freq=\"W-THU\")\n",
    "print(\"\\nAll Thursday between 2021-01-01 to 2021-12-31\")\n",
    "thursday"
   ]
  },
  {
   "cell_type": "markdown",
   "id": "e42c4605",
   "metadata": {},
   "source": [
    "## 18. Write a Pandas program to find the all the business quarterly begin and end dates of a specified year. "
   ]
  },
  {
   "cell_type": "code",
   "execution_count": 62,
   "id": "4f668a7d",
   "metadata": {},
   "outputs": [
    {
     "name": "stdout",
     "output_type": "stream",
     "text": [
      "All the business quarterly begin dates of 2020:\n",
      "['2021-03-01T00:00:00.000000000' '2021-06-01T00:00:00.000000000'\n",
      " '2021-09-01T00:00:00.000000000' '2021-12-01T00:00:00.000000000']\n",
      "All the business quarterly ends dates of 2020:\n",
      "['2021-03-31T00:00:00.000000000' '2021-06-30T00:00:00.000000000'\n",
      " '2021-09-30T00:00:00.000000000' '2021-12-31T00:00:00.000000000']\n"
     ]
    }
   ],
   "source": [
    "q_start_dates = pd.date_range('2021-01-01','2021-12-31',freq='BQS-JUN')\n",
    "q_end_dates = pd.date_range('2021-01-01','2021-12-31',freq='BQ-JUN')\n",
    "print(\"All the business quarterly begin dates of 2020:\")\n",
    "print(q_start_dates.values)\n",
    "print(\"All the business quarterly ends dates of 2020:\")\n",
    "print(q_end_dates.values)"
   ]
  },
  {
   "cell_type": "code",
   "execution_count": null,
   "id": "6a0fb1b0",
   "metadata": {},
   "outputs": [],
   "source": []
  }
 ],
 "metadata": {
  "kernelspec": {
   "display_name": "Python 3 (ipykernel)",
   "language": "python",
   "name": "python3"
  },
  "language_info": {
   "codemirror_mode": {
    "name": "ipython",
    "version": 3
   },
   "file_extension": ".py",
   "mimetype": "text/x-python",
   "name": "python",
   "nbconvert_exporter": "python",
   "pygments_lexer": "ipython3",
   "version": "3.9.6"
  }
 },
 "nbformat": 4,
 "nbformat_minor": 5
}
